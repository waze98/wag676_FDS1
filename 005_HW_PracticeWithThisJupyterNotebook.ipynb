{
 "cells": [
  {
   "cell_type": "markdown",
   "id": "b71af9f1",
   "metadata": {},
   "source": [
    "# This is a notebook for homework used to practice the class workflow\n",
    "\n",
    "You are asked to add your information below:\n",
    "\n",
    "Name: Wendy\n",
    "\n",
    "Surname: Geronimo\n",
    "\n",
    "EID: wag676"
   ]
  },
  {
   "cell_type": "markdown",
   "id": "a758306e",
   "metadata": {},
   "source": [
    "Create a table with 5 rows and 3 columns using Markdown.\n",
    "\n",
    "Column 1 should code for artist name\n",
    "Column 2 should code for a song title\n",
    "Column 3 should reason you like the song.\n",
    "\n",
    "Please fill out the table with your top 5 artists and their respective top songs and an note explaining why/what you like of the song and artist.\n",
    "\n",
    "###### Hint: Avoid say \"because they are awesome!\" We really are interested in learing what you guys like.\n",
    "\n",
    "\n",
    "| Artist Name              | Song Title | Reason! |\n",
    "| :----------------: | :------: | :----: |\n",
    "| Mc Livinho        |   Pilantragem   | I am learning portugues and their music is wonderful! |\n",
    "| Mitski           |   My Love All Mine   | Mitski has helped me through several rough phases in my life |\n",
    "| TV Girl    |  Lovers Rock   | In a more indie/retro vibe, this song helped me get through 2023 |\n",
    "| Cocteau Twins |  Cherry-coloured Funk   | This group has wonderful ethereal songs, unique vibe |\n",
    "| Piero Piccioni    |  Easy Lovers  | This artist is the definition of vintage instrumentals! |"
   ]
  },
  {
   "cell_type": "code",
   "execution_count": null,
   "id": "55877dac",
   "metadata": {},
   "outputs": [],
   "source": []
  }
 ],
 "metadata": {
  "kernelspec": {
   "display_name": "Python 3 (ipykernel)",
   "language": "python",
   "name": "python3"
  },
  "language_info": {
   "codemirror_mode": {
    "name": "ipython",
    "version": 3
   },
   "file_extension": ".py",
   "mimetype": "text/x-python",
   "name": "python",
   "nbconvert_exporter": "python",
   "pygments_lexer": "ipython3",
   "version": "3.11.5"
  }
 },
 "nbformat": 4,
 "nbformat_minor": 5
}
