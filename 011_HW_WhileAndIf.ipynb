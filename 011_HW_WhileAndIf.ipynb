{
 "cells": [
  {
   "cell_type": "markdown",
   "id": "7b18f693",
   "metadata": {},
   "source": [
    "# Homework Assignment: Control Structures"
   ]
  },
  {
   "cell_type": "markdown",
   "id": "19d9de8c",
   "metadata": {},
   "source": [
    "0. Logic"
   ]
  },
  {
   "cell_type": "code",
   "execution_count": 1,
   "id": "815d6a08",
   "metadata": {},
   "outputs": [
    {
     "name": "stdout",
     "output_type": "stream",
     "text": [
      "True\n"
     ]
    }
   ],
   "source": [
    "# a\n",
    "test_strs = [\"y\", \"o\"]\n",
    "comp_str = \"Hello World\"\n",
    "\n",
    "if test_strs[0] in comp_str or test_strs[1] in comp_str:\n",
    "    print(True)\n",
    "else:\n",
    "    print(False)\n"
   ]
  },
  {
   "cell_type": "code",
   "execution_count": 2,
   "id": "115666c7",
   "metadata": {
    "scrolled": true
   },
   "outputs": [
    {
     "name": "stdout",
     "output_type": "stream",
     "text": [
      "a and b\n",
      "True\n",
      "a or b\n",
      "True\n",
      "not b\n",
      "False\n",
      "a xor b\n",
      "False\n"
     ]
    }
   ],
   "source": [
    "# b\n",
    "a = True\n",
    "b = True\n",
    "\n",
    "print(\"a and b\")\n",
    "if a and b:\n",
    "    print(True)\n",
    "else:\n",
    "    print(False)\n",
    "    \n",
    "print(\"a or b\")\n",
    "if a or b:\n",
    "    print(True)\n",
    "else:\n",
    "    print(False)\n",
    "\n",
    "print(\"not b\")\n",
    "if not b:\n",
    "    print(True)\n",
    "else:\n",
    "    print(False)\n",
    "\n",
    "print(\"a xor b\")\n",
    "if (a and not b) or (not a and b):\n",
    "    print(True)\n",
    "else:\n",
    "    print(False)"
   ]
  },
  {
   "cell_type": "markdown",
   "id": "98bc73fe",
   "metadata": {},
   "source": [
    "1. Age Category"
   ]
  },
  {
   "cell_type": "code",
   "execution_count": 4,
   "id": "0598a330",
   "metadata": {},
   "outputs": [
    {
     "name": "stdout",
     "output_type": "stream",
     "text": [
      "What is your age? 20\n",
      "Adult\n"
     ]
    }
   ],
   "source": [
    "# a\n",
    "age = int(input(\"What is your age? \"))\n",
    "\n",
    "# b\n",
    "if age >= 65:\n",
    "    print(\"Senior\")\n",
    "elif age >= 20:\n",
    "    print(\"Adult\")\n",
    "elif age >= 13:\n",
    "    print(\"Teenager\")\n",
    "elif age >= 3:\n",
    "    print(\"Child\")\n",
    "elif age >= 0:\n",
    "    print(\"Infant\")\n",
    "else:\n",
    "    print(\"Not born yet.\")"
   ]
  },
  {
   "cell_type": "markdown",
   "id": "54204a27",
   "metadata": {},
   "source": [
    "2. Number Classifier"
   ]
  },
  {
   "cell_type": "code",
   "execution_count": 6,
   "id": "119d12e9",
   "metadata": {},
   "outputs": [
    {
     "name": "stdout",
     "output_type": "stream",
     "text": [
      "Input a number, any number: 0\n",
      "Your number, 0, is neither positive nor negative and even\n"
     ]
    }
   ],
   "source": [
    "# a\n",
    "num = int(input(\"Input a number, any number: \"))\n",
    "\n",
    "# b\n",
    "if num < 0:\n",
    "    PosOrNeg = \"negative\"\n",
    "elif num == 0:\n",
    "    PosOrNeg = \"neither positive nor negative\"\n",
    "else:\n",
    "    PosOrNeg = \"positive\"\n",
    "    \n",
    "if num % 2 == 1:\n",
    "    EorO = \"odd\"\n",
    "else:\n",
    "    EorO = \"even\"\n",
    "\n",
    "print(f\"Your number, {num}, is {PosOrNeg} and {EorO}\")"
   ]
  },
  {
   "cell_type": "markdown",
   "id": "1dec4b1b",
   "metadata": {},
   "source": [
    "4. Guessing Game:"
   ]
  },
  {
   "cell_type": "code",
   "execution_count": 12,
   "id": "1930af26",
   "metadata": {},
   "outputs": [
    {
     "name": "stdout",
     "output_type": "stream",
     "text": [
      "You only have three attempts.\n",
      "Attempt # 1\n",
      "Guess the number: 4\n",
      "Too low.\n",
      "Attempt # 2\n",
      "Guess the number: 7\n",
      "Too low.\n",
      "Attempt # 3\n",
      "Guess the number: 9\n",
      "Too low.\n",
      "Out of Attempts. Right number was 10\n"
     ]
    }
   ],
   "source": [
    "answer = 0\n",
    "guess = 0\n",
    "import random\n",
    "\n",
    "answer = random.randint(1,10)\n",
    "# print(answer)\n",
    "\n",
    "print(\"You only have three attempts.\")\n",
    "i = 1\n",
    "\n",
    "while i != 4:\n",
    "    print(\"Attempt #\", i)\n",
    "    guess = int(input(\"Guess the number: \"))\n",
    "    if guess < answer:\n",
    "        print(\"Too low.\")\n",
    "    elif guess > answer:\n",
    "        print(\"Too high.\")\n",
    "    else: # guess == answer\n",
    "        print(\"Correct! Number was\", answer)\n",
    "        break\n",
    "    i+= 1\n",
    "\n",
    "if i == 4 and guess != answer:\n",
    "    print(\"Out of Attempts. Right number was\", answer)"
   ]
  },
  {
   "cell_type": "markdown",
   "id": "42343e52",
   "metadata": {},
   "source": [
    "5. Counter Contrast"
   ]
  },
  {
   "cell_type": "code",
   "execution_count": 19,
   "id": "5a6af69e",
   "metadata": {},
   "outputs": [
    {
     "name": "stdout",
     "output_type": "stream",
     "text": [
      "Input a positive integer: -13\n",
      "Wrong type of input. You input a negative num. or zero.\n",
      "Input a positive integer: -13423\n",
      "Wrong type of input. You input a negative num. or zero.\n",
      "Input a positive integer: -0\n",
      "Wrong type of input. You input a negative num. or zero.\n",
      "Input a positive integer: 0\n",
      "Wrong type of input. You input a negative num. or zero.\n",
      "Input a positive integer: 5\n",
      "Version 1: Using For Loop\n",
      "0\n",
      "1\n",
      "2\n",
      "3\n",
      "4\n",
      "Version 2: Using while loop\n",
      "0\n",
      "1\n",
      "2\n",
      "3\n",
      "4\n"
     ]
    }
   ],
   "source": [
    "n = int(input(\"Input a positive integer: \"))\n",
    "while n <= 0:\n",
    "    print(\"Wrong type of input. You input a negative num. or zero.\")\n",
    "    n = int(input(\"Input a positive integer: \"))\n",
    "    \n",
    "# v1\n",
    "print(\"Version 1: Using For Loop\")\n",
    "\n",
    "np = [print(i) for i in range(n)]\n",
    "\n",
    "# for i in range(n):\n",
    "#     print(i)\n",
    "    \n",
    "# v2\n",
    "print(\"Version 2: Using while loop\")\n",
    "\n",
    "count = 0\n",
    "while count != n:\n",
    "    print(count)\n",
    "    count += 1\n",
    "    \n",
    "# I prefer the for loop since it's slicker and uses less lines"
   ]
  },
  {
   "cell_type": "markdown",
   "id": "cc7e2cce",
   "metadata": {},
   "source": [
    "### 6. Multiplication Table"
   ]
  },
  {
   "cell_type": "code",
   "execution_count": 23,
   "id": "d81004ad",
   "metadata": {},
   "outputs": [
    {
     "name": "stdout",
     "output_type": "stream",
     "text": [
      "Input a number: 9\n",
      "Version 1: Using a For Loop\n",
      "9 x 1 = 9\n",
      "9 x 2 = 18\n",
      "9 x 3 = 27\n",
      "9 x 4 = 36\n",
      "9 x 5 = 45\n",
      "9 x 6 = 54\n",
      "9 x 7 = 63\n",
      "9 x 8 = 72\n",
      "9 x 9 = 81\n",
      "9 x 10 = 90\n",
      "Version 2: Using a While Loop\n",
      "9 x 1 = 9\n",
      "9 x 2 = 18\n",
      "9 x 3 = 27\n",
      "9 x 4 = 36\n",
      "9 x 5 = 45\n",
      "9 x 6 = 54\n",
      "9 x 7 = 63\n",
      "9 x 8 = 72\n",
      "9 x 9 = 81\n",
      "9 x 10 = 90\n"
     ]
    }
   ],
   "source": [
    "n = int(input(\"Input a number: \"))\n",
    "\n",
    "#for loop\n",
    "print(\"Version 1: Using a For Loop\")\n",
    "np = [print(f\"{n} x {i} = {n*i}\") for i in range(1, 11)]\n",
    "\n",
    "#while loop\n",
    "print(\"Version 2: Using a While Loop\")\n",
    "i = 1\n",
    "while i <= 10:\n",
    "    print(f\"{n} x {i} = {n*i}\")\n",
    "    i += 1\n",
    "\n",
    "# I still like for loops better because it is slicker"
   ]
  },
  {
   "cell_type": "code",
   "execution_count": 24,
   "id": "2e500c89",
   "metadata": {},
   "outputs": [],
   "source": [
    "# I implemented a while loop since there might be a million times\n",
    "# needed for the user to understand they need to input the right\n",
    "# type of input."
   ]
  }
 ],
 "metadata": {
  "kernelspec": {
   "display_name": "Python 3 (ipykernel)",
   "language": "python",
   "name": "python3"
  },
  "language_info": {
   "codemirror_mode": {
    "name": "ipython",
    "version": 3
   },
   "file_extension": ".py",
   "mimetype": "text/x-python",
   "name": "python",
   "nbconvert_exporter": "python",
   "pygments_lexer": "ipython3",
   "version": "3.11.5"
  }
 },
 "nbformat": 4,
 "nbformat_minor": 5
}
