{
 "cells": [
  {
   "cell_type": "markdown",
   "id": "f90af1ee",
   "metadata": {},
   "source": [
    "# Homework Assignment: Slicing & Data Container Methods"
   ]
  },
  {
   "cell_type": "markdown",
   "id": "8784e813",
   "metadata": {},
   "source": [
    "**Objective:** Understand and apply slicing techniques to strings, lists, and tuples. Familiarize yourself with the main methods of strings, lists, tuples, and dictionaries."
   ]
  },
  {
   "cell_type": "markdown",
   "id": "bcdd8264",
   "metadata": {},
   "source": [
    "\n",
    "---\n"
   ]
  },
  {
   "cell_type": "markdown",
   "id": "dafcad93",
   "metadata": {},
   "source": [
    "### **Part A: Slicing**"
   ]
  },
  {
   "cell_type": "markdown",
   "id": "03931253",
   "metadata": {},
   "source": [
    "1. **Strings:**\n",
    "    - Given the string `s = \"ProgrammingIsFun\"`, extract and print the substring \"Program\".\n",
    "    - Extract and print the substring \"Fun\".\n",
    "    - Extract and print every 3rd character of the string."
   ]
  },
  {
   "cell_type": "code",
   "execution_count": 9,
   "id": "ead52e86",
   "metadata": {},
   "outputs": [
    {
     "name": "stdout",
     "output_type": "stream",
     "text": [
      "Program\n",
      "Fun\n",
      "Pgmnsn\n"
     ]
    }
   ],
   "source": [
    "s = \"ProgrammingIsFun\"\n",
    "s1 = s[:7]\n",
    "print(s1)\n",
    "\n",
    "s2 = s[-3:]\n",
    "print(s2)\n",
    "\n",
    "s3 = s[::3]\n",
    "print(s3)"
   ]
  },
  {
   "cell_type": "markdown",
   "id": "59a5e539",
   "metadata": {},
   "source": [
    "2. **Lists:**\n",
    "    - Given the list `lst = [10, 20, 30, 40, 50, 60, 70, 80]`:\n",
    "        - Extract and print the first 3 elements.\n",
    "        - Extract and print the last 2 elements.\n",
    "        - Extract and print the elements from index 3 to 6 (inclusive).\n",
    "        - Extract and print every 2nd element from the list.\n",
    "        - Extract and print every 2nd element *starting from the end of the list*."
   ]
  },
  {
   "cell_type": "code",
   "execution_count": 28,
   "id": "13a6eafa",
   "metadata": {},
   "outputs": [
    {
     "name": "stdout",
     "output_type": "stream",
     "text": [
      "[10, 20, 30]\n",
      "[70, 80]\n",
      "[40, 50, 60, 70]\n",
      "[10, 30, 50, 70]\n",
      "[80, 60, 40, 20]\n"
     ]
    }
   ],
   "source": [
    "lst = [10, 20, 30, 40, 50, 60, 70, 80]\n",
    "lst3 = lst[:3]\n",
    "print(lst3)\n",
    "\n",
    "lstL2 = lst[-2:]\n",
    "print(lstL2)\n",
    "\n",
    "lst3to6 = lst[3:7]\n",
    "print(lst3to6)\n",
    "\n",
    "lst2nd = lst[::2]\n",
    "print(lst2nd)\n",
    "\n",
    "lst2ndEnd = lst[::-2]\n",
    "print(lst2ndEnd)"
   ]
  },
  {
   "cell_type": "markdown",
   "id": "7c164c1a",
   "metadata": {},
   "source": [
    "3. **Tuples:**\n",
    "    - Given the tuple `tup = (5, 10, 15, 20, 25, 30, 35, 40)`:\n",
    "        - Extract and print the second element.\n",
    "        - Extract and print the last 3 elements.\n",
    "        - Extract and print the elements from index 2 to 5 (exclusive)."
   ]
  },
  {
   "cell_type": "code",
   "execution_count": 27,
   "id": "76e722ae",
   "metadata": {},
   "outputs": [
    {
     "name": "stdout",
     "output_type": "stream",
     "text": [
      "10\n",
      "(30, 35, 40)\n",
      "(15, 20, 25)\n"
     ]
    }
   ],
   "source": [
    "tup = (5, 10, 15, 20, 25, 30, 35, 40)\n",
    "tup2 = tup[1]\n",
    "print(tup2)\n",
    "\n",
    "tupL3 = tup[-3:]\n",
    "print(tupL3)\n",
    "\n",
    "tup2to5 = tup[2:5]\n",
    "print(tup2to5)"
   ]
  },
  {
   "cell_type": "markdown",
   "id": "b2985e70",
   "metadata": {},
   "source": [
    "\n",
    "---\n"
   ]
  },
  {
   "cell_type": "markdown",
   "id": "92e42865",
   "metadata": {},
   "source": [
    "### **Part B: Methods of Data Structures**"
   ]
  },
  {
   "cell_type": "markdown",
   "id": "d31c9be6",
   "metadata": {},
   "source": [
    "1. **Strings:**\n",
    "    - Find and print the index of the first occurrence of the substring \"ming\" in `s`.\n",
    "    - Convert the string `s` to lowercase and print the result.\n",
    "    - Replace the substring \"Fun\" in `s` with \"Amazing\" and print the result."
   ]
  },
  {
   "cell_type": "code",
   "execution_count": 31,
   "id": "53fb91df",
   "metadata": {},
   "outputs": [
    {
     "data": {
      "text/plain": [
       "7"
      ]
     },
     "execution_count": 31,
     "metadata": {},
     "output_type": "execute_result"
    }
   ],
   "source": [
    "s.index('ming')"
   ]
  },
  {
   "cell_type": "code",
   "execution_count": 32,
   "id": "e15327cf",
   "metadata": {},
   "outputs": [
    {
     "data": {
      "text/plain": [
       "'programmingisfun'"
      ]
     },
     "execution_count": 32,
     "metadata": {},
     "output_type": "execute_result"
    }
   ],
   "source": [
    "s.lower()"
   ]
  },
  {
   "cell_type": "code",
   "execution_count": 33,
   "id": "4378c26f",
   "metadata": {},
   "outputs": [
    {
     "data": {
      "text/plain": [
       "'ProgrammingIsFun'"
      ]
     },
     "execution_count": 33,
     "metadata": {},
     "output_type": "execute_result"
    }
   ],
   "source": [
    "s.replace(\"Amazing\", \"Fun\")"
   ]
  },
  {
   "cell_type": "markdown",
   "id": "00e6a35b",
   "metadata": {},
   "source": [
    "2. **Lists:**\n",
    "    - Add the elements `90` and `100` to the end of `lst` and print the updated list.\n",
    "    - Remove the second element from `lst` and print the updated list.\n",
    "    - Reverse the order of elements in `lst` and print the updated list.\n",
    "    - Find and print the index of element `50` in `lst`."
   ]
  },
  {
   "cell_type": "code",
   "execution_count": 40,
   "id": "31423299",
   "metadata": {},
   "outputs": [
    {
     "name": "stdout",
     "output_type": "stream",
     "text": [
      "[10, 20, 30, 40, 50, 60, 70, 80, 90, 100]\n",
      "[10, 30, 40, 50, 60, 70, 80, 90, 100]\n",
      "[100, 90, 80, 70, 60, 50, 40, 30, 10]\n",
      "5\n"
     ]
    }
   ],
   "source": [
    "lst = [10, 20, 30, 40, 50, 60, 70, 80]\n",
    "lst.extend([90, 100])\n",
    "print(lst)\n",
    "\n",
    "lst.remove(20)\n",
    "print(lst)\n",
    "\n",
    "lst.reverse()\n",
    "print(lst)\n",
    "\n",
    "lst50 = lst.index(50)\n",
    "print(lst50)"
   ]
  },
  {
   "cell_type": "markdown",
   "id": "0dbec102",
   "metadata": {},
   "source": [
    "3. **Tuples:**\n",
    "    - Count and print the number of occurrences of `20` in `tup`.\n",
    "    - Convert `tup` into a list, add the number `45` at its end, then convert it back to a tuple. Print the new tuple."
   ]
  },
  {
   "cell_type": "code",
   "execution_count": 41,
   "id": "495bfbf1",
   "metadata": {},
   "outputs": [
    {
     "data": {
      "text/plain": [
       "1"
      ]
     },
     "execution_count": 41,
     "metadata": {},
     "output_type": "execute_result"
    }
   ],
   "source": [
    "tup.count(20)"
   ]
  },
  {
   "cell_type": "code",
   "execution_count": 42,
   "id": "11a7b144",
   "metadata": {},
   "outputs": [
    {
     "data": {
      "text/plain": [
       "[5, 10, 15, 20, 25, 30, 35, 40]"
      ]
     },
     "execution_count": 42,
     "metadata": {},
     "output_type": "execute_result"
    }
   ],
   "source": [
    "list(tup)"
   ]
  },
  {
   "cell_type": "markdown",
   "id": "c14ee332",
   "metadata": {},
   "source": [
    "4. **Dictionaries:**\n",
    "    - Given the dictionary `S_Doo_ = {\"Scooby\": 4, \"Shaggy\": 19, \"Velma\": 18, \"Daphne\": 20}`\n",
    "        - Add a new key-value pair: `\"Phred\": 21` and print the updated dictionary.\n",
    "        - Retrieve and print the age of \"Velma\".\n",
    "        - Remove \"Scooby\" and his age from the dictionary and print the updated dictionary.\n",
    "        - Print all the keys in the dictionary.\n",
    "        - Print all the values in the dictionary."
   ]
  },
  {
   "cell_type": "code",
   "execution_count": 53,
   "id": "a03fa8ab",
   "metadata": {},
   "outputs": [
    {
     "name": "stdout",
     "output_type": "stream",
     "text": [
      "{'Scooby': 4, 'Shaggy': 19, 'Velma': 18, 'Daphne': 20, 'Phred': 21}\n"
     ]
    }
   ],
   "source": [
    "S_Doo_ = {\"Scooby\": 4, \"Shaggy\": 19, \"Velma\": 18, \"Daphne\": 20}\n",
    "\n",
    "S_Doo_[\"Phred\"] = 21\n",
    "print(S_Doo_)"
   ]
  },
  {
   "cell_type": "code",
   "execution_count": 54,
   "id": "b2c61e2b",
   "metadata": {},
   "outputs": [
    {
     "data": {
      "text/plain": [
       "18"
      ]
     },
     "execution_count": 54,
     "metadata": {},
     "output_type": "execute_result"
    }
   ],
   "source": [
    "S_Doo_[\"Velma\"]"
   ]
  },
  {
   "cell_type": "code",
   "execution_count": 55,
   "id": "1710196c",
   "metadata": {},
   "outputs": [
    {
     "name": "stdout",
     "output_type": "stream",
     "text": [
      "{'Shaggy': 19, 'Velma': 18, 'Daphne': 20, 'Phred': 21}\n"
     ]
    }
   ],
   "source": [
    "S_Doo_.pop(\"Scooby\")\n",
    "print(S_Doo_)"
   ]
  },
  {
   "cell_type": "code",
   "execution_count": 57,
   "id": "f9e4db01",
   "metadata": {},
   "outputs": [
    {
     "data": {
      "text/plain": [
       "dict_keys(['Shaggy', 'Velma', 'Daphne', 'Phred'])"
      ]
     },
     "execution_count": 57,
     "metadata": {},
     "output_type": "execute_result"
    }
   ],
   "source": [
    "S_Doo_.keys()"
   ]
  },
  {
   "cell_type": "code",
   "execution_count": 58,
   "id": "1ebdc473",
   "metadata": {},
   "outputs": [
    {
     "data": {
      "text/plain": [
       "dict_values([19, 18, 20, 21])"
      ]
     },
     "execution_count": 58,
     "metadata": {},
     "output_type": "execute_result"
    }
   ],
   "source": [
    "S_Doo_.values()"
   ]
  },
  {
   "cell_type": "code",
   "execution_count": null,
   "id": "bd6b58bc",
   "metadata": {},
   "outputs": [],
   "source": []
  }
 ],
 "metadata": {
  "kernelspec": {
   "display_name": "Python 3 (ipykernel)",
   "language": "python",
   "name": "python3"
  },
  "language_info": {
   "codemirror_mode": {
    "name": "ipython",
    "version": 3
   },
   "file_extension": ".py",
   "mimetype": "text/x-python",
   "name": "python",
   "nbconvert_exporter": "python",
   "pygments_lexer": "ipython3",
   "version": "3.11.5"
  }
 },
 "nbformat": 4,
 "nbformat_minor": 5
}
