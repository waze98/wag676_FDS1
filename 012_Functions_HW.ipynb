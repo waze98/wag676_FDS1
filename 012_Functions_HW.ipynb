{
 "cells": [
  {
   "cell_type": "markdown",
   "id": "eb876a1f",
   "metadata": {},
   "source": [
    "### 1. Function Design for Unit Conversions:\n",
    " - Design and implement functions for the following conversions:\n",
    "     - Miles to Kilometers and vice versa.\n",
    "      - Fahrenheit to Celsius and vice versa.\n",
    "      - Kilograms to Pounds and vice versa.\n",
    "- Each conversion should have its dedicated function. For instance, `miles_to_km()`, `km_to_miles()`, etc.\n",
    "- Each function should `return` its answer (not just print it)."
   ]
  },
  {
   "cell_type": "code",
   "execution_count": 4,
   "id": "48b34320",
   "metadata": {},
   "outputs": [
    {
     "name": "stdout",
     "output_type": "stream",
     "text": [
      "Kilometers and Miles\n",
      "10 mi = 16.0934 km\n",
      "10 km = 16.0934 mi\n",
      "\n",
      "\n",
      "Fahrenheit and Celcius\n",
      "10 deg F = -12.222222222222221 deg C\n",
      "10 deg C = 50.0 deg F\n",
      "\n",
      "\n",
      "Kilograms and Pounds\n",
      "10 kg = 22.0462 lb(s)\n",
      "10 lb(s) = 4.53592 kg\n"
     ]
    }
   ],
   "source": [
    "def mi_to_km(mi):\n",
    "    return mi * 1.60934\n",
    "\n",
    "def km_to_mi(km):\n",
    "    return km * 0.621371\n",
    "\n",
    "def f_to_c(f):\n",
    "    return (f - 32) * 5/9\n",
    "\n",
    "def c_to_f(c):\n",
    "    return c * 9/5 + 32\n",
    "\n",
    "def kg_to_lb(kg):\n",
    "    return kg * 2.20462\n",
    "\n",
    "def lb_to_kg(lb):\n",
    "    return lb * 0.453592\n",
    "\n",
    "test_num = 10\n",
    "print(\"Kilometers and Miles\")\n",
    "print(f\"{test_num} mi = {mi_to_km(test_num)} km\")\n",
    "print(f\"{test_num} km = {mi_to_km(test_num)} mi\")\n",
    "\n",
    "print(\"\\n\\nFahrenheit and Celcius\")\n",
    "print(f\"{test_num} deg F = {f_to_c(test_num)} deg C\")\n",
    "print(f\"{test_num} deg C = {c_to_f(test_num)} deg F\")\n",
    "\n",
    "print(\"\\n\\nKilograms and Pounds\")\n",
    "print(f\"{test_num} kg = {kg_to_lb(test_num)} lb(s)\")\n",
    "print(f\"{test_num} lb(s) = {lb_to_kg(test_num)} kg\")"
   ]
  },
  {
   "cell_type": "markdown",
   "id": "d04924f6",
   "metadata": {},
   "source": [
    "### 2. Module Creation:\n",
    "- Organize all the conversion functions you've created into a Python module named `unit_conversions.py`.\n",
    "- In a separate script, import your module and demonstrate the use of each function.\n"
   ]
  },
  {
   "cell_type": "code",
   "execution_count": 6,
   "id": "54c3e2a1",
   "metadata": {},
   "outputs": [
    {
     "name": "stdout",
     "output_type": "stream",
     "text": [
      "Kilometers and Miles\n",
      "20 mi = 32.1868 km\n",
      "20 km = 12.42742 mi\n",
      "\n",
      "\n",
      "Fahrenheit and Celcius\n",
      "20 deg F = -6.666666666666667 deg C\n",
      "20 deg C = 68.0 deg F\n",
      "\n",
      "\n",
      "Kilograms and Pounds\n",
      "20 kg = 44.0924 lb(s)\n",
      "20 lb(s) = 9.07184 kg\n"
     ]
    }
   ],
   "source": [
    "# # # From separate_script.py\n",
    "\n",
    "from unit_conversions import *\n",
    "test_num = 20\n",
    "\n",
    "print(\"Kilometers and Miles\")\n",
    "print(f\"{test_num} mi = {mi_to_km(test_num)} km\")\n",
    "print(f\"{test_num} km = {km_to_mi(test_num)} mi\")\n",
    "\n",
    "print(\"\\n\\nFahrenheit and Celcius\")\n",
    "print(f\"{test_num} deg F = {f_to_c(test_num)} deg C\")\n",
    "print(f\"{test_num} deg C = {c_to_f(test_num)} deg F\")\n",
    "\n",
    "print(\"\\n\\nKilograms and Pounds\")\n",
    "print(f\"{test_num} kg = {kg_to_lb(test_num)} lb(s)\")\n",
    "print(f\"{test_num} lb(s) = {lb_to_kg(test_num)} kg\")"
   ]
  },
  {
   "cell_type": "markdown",
   "id": "90e19f59",
   "metadata": {},
   "source": [
    "### 3. Namespaces:\n",
    "\n",
    "- Make a module with filename \"mylen.py\"\n",
    "   * add a function named `len` to the module\n",
    "   * the function should return the number 42 no matter what\n",
    "- Create a list `mylist` (or whatever) with some elements in it (they can be numbers or anything)\n",
    "- ***Before importing you module***, try a `len(mylist)`\n",
    "- Import mylen.py (`import mylen`)\n",
    "   * verify that `mylen.len()` works as expected\n",
    "- Now do a `from mylen import len`\n",
    "- Finally, repeat the `len(mylist)`\n",
    "\n",
    "In your own words, compare the outputs of the two `len(mylest)` calls. What happened? Why? What does this tell you about namespaces and the egalitarian nature of Python?"
   ]
  },
  {
   "cell_type": "code",
   "execution_count": 8,
   "id": "02847978",
   "metadata": {},
   "outputs": [
    {
     "data": {
      "text/plain": [
       "4"
      ]
     },
     "execution_count": 8,
     "metadata": {},
     "output_type": "execute_result"
    }
   ],
   "source": [
    "mylist = ['a', 'b', 'c', 'd']\n",
    "len(mylist)"
   ]
  },
  {
   "cell_type": "code",
   "execution_count": 28,
   "id": "386f6e85",
   "metadata": {},
   "outputs": [
    {
     "data": {
      "text/plain": [
       "42"
      ]
     },
     "execution_count": 28,
     "metadata": {},
     "output_type": "execute_result"
    }
   ],
   "source": [
    "import mylen\n",
    "mylen.len()"
   ]
  },
  {
   "cell_type": "code",
   "execution_count": 29,
   "id": "5ebe5178",
   "metadata": {},
   "outputs": [
    {
     "ename": "TypeError",
     "evalue": "len() takes 0 positional arguments but 1 was given",
     "output_type": "error",
     "traceback": [
      "\u001b[0;31m---------------------------------------------------------------------------\u001b[0m",
      "\u001b[0;31mTypeError\u001b[0m                                 Traceback (most recent call last)",
      "Cell \u001b[0;32mIn[29], line 1\u001b[0m\n\u001b[0;32m----> 1\u001b[0m mylen\u001b[38;5;241m.\u001b[39mlen(mylist)\n\u001b[1;32m      2\u001b[0m \u001b[38;5;28;01mfrom\u001b[39;00m \u001b[38;5;21;01mmylen\u001b[39;00m \u001b[38;5;28;01mimport\u001b[39;00m \u001b[38;5;28mlen\u001b[39m\n\u001b[1;32m      3\u001b[0m \u001b[38;5;28mlen\u001b[39m(mylist)\n",
      "\u001b[0;31mTypeError\u001b[0m: len() takes 0 positional arguments but 1 was given"
     ]
    }
   ],
   "source": [
    "mylen.len(mylist)\n",
    "from mylen import len\n",
    "len(mylist)"
   ]
  },
  {
   "cell_type": "markdown",
   "id": "0298149b",
   "metadata": {},
   "source": [
    "In my own words, it seems that python does not let us override the len function."
   ]
  }
 ],
 "metadata": {
  "kernelspec": {
   "display_name": "Python 3 (ipykernel)",
   "language": "python",
   "name": "python3"
  },
  "language_info": {
   "codemirror_mode": {
    "name": "ipython",
    "version": 3
   },
   "file_extension": ".py",
   "mimetype": "text/x-python",
   "name": "python",
   "nbconvert_exporter": "python",
   "pygments_lexer": "ipython3",
   "version": "3.11.5"
  }
 },
 "nbformat": 4,
 "nbformat_minor": 5
}
