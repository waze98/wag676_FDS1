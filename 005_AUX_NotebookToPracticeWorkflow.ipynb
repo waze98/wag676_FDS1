{
 "cells": [
  {
   "cell_type": "markdown",
   "id": "a677aa22",
   "metadata": {},
   "source": [
    "# This is a test tutorial used to practice the class workflow\n",
    "\n",
    "You are asked to add your information below:\n",
    "\n",
    "Name: Wendy\n",
    "Surname: Geronimo\n",
    "EID: wag676\n",
    "Favorite animal: Shamu / Killer whales\n",
    "Favorite non living thing: canned Aloha bevage from local Poke place (yum)"
   ]
  },
  {
   "cell_type": "code",
   "execution_count": null,
   "id": "0ba7b6c9",
   "metadata": {},
   "outputs": [],
   "source": []
  }
 ],
 "metadata": {
  "kernelspec": {
   "display_name": "Python 3 (ipykernel)",
   "language": "python",
   "name": "python3"
  },
  "language_info": {
   "codemirror_mode": {
    "name": "ipython",
    "version": 3
   },
   "file_extension": ".py",
   "mimetype": "text/x-python",
   "name": "python",
   "nbconvert_exporter": "python",
   "pygments_lexer": "ipython3",
   "version": "3.11.5"
  }
 },
 "nbformat": 4,
 "nbformat_minor": 5
}
