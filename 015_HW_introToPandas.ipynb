{
 "cells": [
  {
   "cell_type": "markdown",
   "id": "61fabb9c",
   "metadata": {},
   "source": [
    "# Homework on Pandas Basics\n",
    "\n",
    "---\n",
    "\n",
    "#### Series Exercises:\n",
    "\n",
    "1. **Create a Series:**\n",
    "    - Create a Series named `fruits` with the data: 'apple', 'banana', 'cherry', 'date', and assign it an index of 'a', 'b', 'c', 'd' respectively.\n",
    "    - Print the Series.\n",
    "    - Print the `Index` of the series.\n",
    " \n"
   ]
  },
  {
   "cell_type": "code",
   "execution_count": 1,
   "id": "100aebbd",
   "metadata": {},
   "outputs": [
    {
     "name": "stdout",
     "output_type": "stream",
     "text": [
      "a     apple\n",
      "b    banana\n",
      "c    cherry\n",
      "d      date\n",
      "dtype: object\n",
      "Index(['a', 'b', 'c', 'd'], dtype='object')\n"
     ]
    }
   ],
   "source": [
    "# 1\n",
    "from pandas import Series, DataFrame, Index\n",
    "\n",
    "fruits = Series(['apple', 'banana', 'cherry', 'date'], index=['a', 'b', 'c', 'd'])\n",
    "print(fruits)\n",
    "print(fruits.index)"
   ]
  },
  {
   "cell_type": "markdown",
   "id": "06ea7a1d",
   "metadata": {},
   "source": [
    "2. **Accessing Elements:**\n",
    "    - Print the second  (\"b\") element of the `fruits` Series."
   ]
  },
  {
   "cell_type": "code",
   "execution_count": 2,
   "id": "9a9d202f",
   "metadata": {},
   "outputs": [
    {
     "name": "stdout",
     "output_type": "stream",
     "text": [
      "banana\n"
     ]
    }
   ],
   "source": [
    "# 2\n",
    "print(fruits['b'])"
   ]
  },
  {
   "cell_type": "markdown",
   "id": "8a8307ed",
   "metadata": {},
   "source": [
    "3. **Series Operations:**\n",
    "    - Create a Series with the squares of the numbers 1 through 5. \n",
    "    - Add 10 to each item in the series (hint: there a *method* to this madness).\n"
   ]
  },
  {
   "cell_type": "code",
   "execution_count": 3,
   "id": "112de594",
   "metadata": {},
   "outputs": [
    {
     "name": "stdout",
     "output_type": "stream",
     "text": [
      "\n",
      "Squares of Numbers 1 through 5:\n",
      "0     1\n",
      "1     4\n",
      "2     9\n",
      "3    16\n",
      "4    25\n",
      "dtype: int64\n",
      "\n",
      "After Adding 10 to Each Item:\n",
      "0    11\n",
      "1    14\n",
      "2    19\n",
      "3    26\n",
      "4    35\n",
      "dtype: int64\n"
     ]
    }
   ],
   "source": [
    "# 3\n",
    "numbers = Series([1, 2, 3, 4, 5])\n",
    "squares = numbers**2\n",
    "\n",
    "squares_plus_10 = squares + 10\n",
    "\n",
    "print(\"\\nSquares of Numbers 1 through 5:\")\n",
    "print(squares)\n",
    "\n",
    "print(\"\\nAfter Adding 10 to Each Item:\")\n",
    "print(squares_plus_10)\n"
   ]
  },
  {
   "cell_type": "markdown",
   "id": "c715e439",
   "metadata": {},
   "source": [
    "---\n",
    "\n",
    "## DataFrame Exercises:\n",
    "\n",
    "1. **Create a DataFrame:**\n",
    "   - Create a DataFrame named `students` with the columns: 'Name', 'Age', 'Grade'.\n",
    "   - Populate it with data for three fictional students."
   ]
  },
  {
   "cell_type": "code",
   "execution_count": 4,
   "id": "15936bf4",
   "metadata": {},
   "outputs": [
    {
     "name": "stdout",
     "output_type": "stream",
     "text": [
      "       Name  Age Grade\n",
      "0  Wendolyn   22    C-\n",
      "1   Ricardo   20     A\n",
      "2  Lawrence   19     A\n"
     ]
    }
   ],
   "source": [
    "# Create a DataFrame named 'students'\n",
    "data = {'Name': ['Wendolyn', 'Ricardo', 'Lawrence'],\n",
    "        'Age': [22, 20, 19],\n",
    "        'Grade': ['C-', 'A', 'A']}\n",
    "\n",
    "students = DataFrame(data)\n",
    "print(students)"
   ]
  },
  {
   "cell_type": "markdown",
   "id": "8fa11575",
   "metadata": {},
   "source": [
    "2. **Accessing Data:**\n",
    "   - Print the `Name` column of the `students` DataFrame."
   ]
  },
  {
   "cell_type": "code",
   "execution_count": 5,
   "id": "984245c4",
   "metadata": {},
   "outputs": [
    {
     "name": "stdout",
     "output_type": "stream",
     "text": [
      "0    Wendolyn\n",
      "1     Ricardo\n",
      "2    Lawrence\n",
      "Name: Name, dtype: object\n"
     ]
    }
   ],
   "source": [
    "print(students['Name'])"
   ]
  },
  {
   "cell_type": "markdown",
   "id": "cd05428b",
   "metadata": {},
   "source": [
    "   \n",
    "4. **DataFrame Operations:**\n",
    "   \n",
    "   - Add a new column to the `students` DataFrame named `Graduated`, which should be `True` if the student's grade is 'A' and `False` otherwise.\n",
    "   - Print the updated DataFrame."
   ]
  },
  {
   "cell_type": "code",
   "execution_count": 6,
   "id": "10429e62",
   "metadata": {},
   "outputs": [
    {
     "name": "stdout",
     "output_type": "stream",
     "text": [
      "       Name  Age Grade  Graduated\n",
      "0  Wendolyn   22    C-      False\n",
      "1   Ricardo   20     A       True\n",
      "2  Lawrence   19     A       True\n"
     ]
    }
   ],
   "source": [
    "students['Graduated'] = students['Grade'] == 'A'\n",
    "\n",
    "print(students)"
   ]
  },
  {
   "cell_type": "markdown",
   "id": "4862163c",
   "metadata": {},
   "source": [
    "   \n",
    "5. **Maths:**\n",
    "   \n",
    "   - Calculate and print the average age of the students.\n",
    "   "
   ]
  },
  {
   "cell_type": "code",
   "execution_count": 7,
   "id": "ad5b64a6",
   "metadata": {},
   "outputs": [
    {
     "name": "stdout",
     "output_type": "stream",
     "text": [
      "\n",
      "Average Age of Students: 20.333333333333332\n"
     ]
    }
   ],
   "source": [
    "average_age = students['Age'].mean()\n",
    "print(\"\\nAverage Age of Students:\", average_age)"
   ]
  },
  {
   "cell_type": "markdown",
   "id": "b7cd2303",
   "metadata": {},
   "source": [
    "6. **Sorting:**\n",
    "   - Sort the `students` DataFrame based on the `Age` column in descending order and print it."
   ]
  },
  {
   "cell_type": "code",
   "execution_count": 8,
   "id": "c72c07b4",
   "metadata": {},
   "outputs": [
    {
     "name": "stdout",
     "output_type": "stream",
     "text": [
      "       Name  Age Grade  Graduated\n",
      "0  Wendolyn   22    C-      False\n",
      "1   Ricardo   20     A       True\n",
      "2  Lawrence   19     A       True\n"
     ]
    }
   ],
   "source": [
    "students_sorted = students.sort_values(by='Age', ascending=False)\n",
    "print(students_sorted)"
   ]
  },
  {
   "cell_type": "markdown",
   "id": "5371aa4d",
   "metadata": {},
   "source": [
    "\n",
    "7. **Tidy Data**.\n",
    "   - Re-make the cognitive health data frame from class so it is \"tidy\", with each column as variable and each row an observation.\n",
    "   - Compute the mean and standard deviation of all variables.\n",
    "   - Compute the mean and standard error for the happiness variable (there might even be a method for computing standard error...)."
   ]
  },
  {
   "cell_type": "code",
   "execution_count": 13,
   "id": "d4882ff6",
   "metadata": {},
   "outputs": [
    {
     "name": "stdout",
     "output_type": "stream",
     "text": [
      "Mean values of all variables:\n",
      "happiness    5.50\n",
      "language     3.25\n",
      "energy       5.25\n",
      "memory       3.25\n",
      "dtype: float64\n",
      "\n",
      "Standard deviation of all variables:\n",
      "happiness    1.290994\n",
      "language     1.500000\n",
      "energy       2.872281\n",
      "memory       2.061553\n",
      "dtype: float64\n",
      "\n",
      "Mean Happiness: 5.5\n",
      "Standard Error of Happiness: 0.6454972243679028\n"
     ]
    }
   ],
   "source": [
    "import pandas as pd\n",
    "\n",
    "# Create a tidy DataFrame for cognitive health\n",
    "cognitive_health_data = pd.DataFrame({\n",
    "    'happiness': [4, 5, 6, 7],\n",
    "    'language': [2, 2, 4, 5],\n",
    "    'energy': [5, 2, 5, 9],\n",
    "    'memory': [3, 6, 3, 1]\n",
    "})\n",
    "\n",
    "# Compute the mean and standard deviation of all variables\n",
    "mean_values = cognitive_health_data.mean()\n",
    "std_dev_values = cognitive_health_data.std()\n",
    "\n",
    "print(\"Mean values of all variables:\")\n",
    "print(mean_values)\n",
    "\n",
    "print(\"\\nStandard deviation of all variables:\")\n",
    "print(std_dev_values)\n",
    "\n",
    "# Compute the mean and standard error for the 'happiness' variable\n",
    "mean_happiness = cognitive_health_data['happiness'].mean()\n",
    "std_error_happiness = cognitive_health_data['happiness'].sem()\n",
    "\n",
    "print(\"\\nMean Happiness:\", mean_happiness)\n",
    "print(\"Standard Error of Happiness:\", std_error_happiness)\n"
   ]
  },
  {
   "cell_type": "code",
   "execution_count": null,
   "id": "53c6eed1",
   "metadata": {},
   "outputs": [],
   "source": []
  }
 ],
 "metadata": {
  "kernelspec": {
   "display_name": "Python 3 (ipykernel)",
   "language": "python",
   "name": "python3"
  },
  "language_info": {
   "codemirror_mode": {
    "name": "ipython",
    "version": 3
   },
   "file_extension": ".py",
   "mimetype": "text/x-python",
   "name": "python",
   "nbconvert_exporter": "python",
   "pygments_lexer": "ipython3",
   "version": "3.11.5"
  }
 },
 "nbformat": 4,
 "nbformat_minor": 5
}
