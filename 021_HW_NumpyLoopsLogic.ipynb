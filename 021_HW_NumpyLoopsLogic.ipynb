{
 "cells": [
  {
   "cell_type": "code",
   "execution_count": 4,
   "id": "71399d69",
   "metadata": {},
   "outputs": [
    {
     "name": "stdout",
     "output_type": "stream",
     "text": [
      "Problem 1: Even Elements: [ 2  8 10  6]\n"
     ]
    }
   ],
   "source": [
    "import numpy as np\n",
    "\n",
    "# Problem 1: Basic Array Element Comparisons\n",
    "arr = np.array([2, 5, 8, 10, 3, 6, 7])\n",
    "even_elements = arr[arr % 2 == 0]\n",
    "print(\"Problem 1: Even Elements:\", even_elements)"
   ]
  },
  {
   "cell_type": "code",
   "execution_count": 5,
   "id": "a16df639",
   "metadata": {},
   "outputs": [
    {
     "name": "stdout",
     "output_type": "stream",
     "text": [
      "\n",
      "Problem 2: Prime Elements (True/False): [ True  True False False  True False  True]\n"
     ]
    }
   ],
   "source": [
    "# Problem 2: Find Prime Array Elements\n",
    "def is_prime(num):\n",
    "    if num < 2:\n",
    "        return False\n",
    "    for i in range(2, int(np.sqrt(num)) + 1):\n",
    "        if num % i == 0:\n",
    "            return False\n",
    "    return True\n",
    "\n",
    "arr_prime = np.array([is_prime(x) for x in arr])\n",
    "print(\"\\nProblem 2: Prime Elements (True/False):\", arr_prime)"
   ]
  },
  {
   "cell_type": "code",
   "execution_count": 6,
   "id": "8e251ed3",
   "metadata": {},
   "outputs": [
    {
     "name": "stdout",
     "output_type": "stream",
     "text": [
      "\n",
      "Problem 3: Fibonacci Matrix:\n",
      "[[   0    1    1    2    3    5    8   13   21   34]\n",
      " [  34    1    2    3    5    8   13   21   34   55]\n",
      " [  89   35    3    5    8   13   21   34   55   89]\n",
      " [ 178  124   38    8   13   21   34   55   89  144]\n",
      " [ 322  302  162   46   21   34   55   89  144  233]\n",
      " [ 555  624  464  208   67   55   89  144  233  377]\n",
      " [ 932 1179 1088  672  275  122  144  233  377  610]\n",
      " [1542 2111 2267 1760  947  397  266  377  610  987]\n",
      " [2529 3653 4378 4027 2707 1344  663  643  987 1597]\n",
      " [4126 6182 8031 8405 6734 4051 2007 1306 1630 2584]]\n"
     ]
    }
   ],
   "source": [
    "# Problem 3: Nested For Loops with 2D Arrays\n",
    "n = 10\n",
    "fib_matrix = np.zeros((n, n), dtype=int)\n",
    "\n",
    "for i in range(n):\n",
    "    for j in range(n):\n",
    "        if i == 0:\n",
    "            fib_matrix[i, j] = j if j <= 1 else fib_matrix[i, j - 1] + fib_matrix[i, j - 2]\n",
    "        else:\n",
    "            fib_matrix[i, j] = fib_matrix[i - 1, j] + fib_matrix[i - 1, j - 1]\n",
    "\n",
    "print(\"\\nProblem 3: Fibonacci Matrix:\")\n",
    "print(fib_matrix)"
   ]
  },
  {
   "cell_type": "code",
   "execution_count": 7,
   "id": "3d853c58",
   "metadata": {},
   "outputs": [
    {
     "name": "stdout",
     "output_type": "stream",
     "text": [
      "\n",
      "Problem 4: Sum and Index for Array [10 20 30 40 50]\n",
      "Sum: 60\n",
      "Index: 3\n",
      "\n",
      "Problem 4: Sum and Index for Array [ 5 15 25]\n",
      "Sum: 45\n",
      "Index: 3\n",
      "\n",
      "Problem 4: Sum and Index for Array [1 2 3 4 5 6 7 8 9]\n",
      "Sum: 45\n",
      "Index: 9\n"
     ]
    }
   ],
   "source": [
    "# Problem 4: While Loop Within a For Loop\n",
    "arrays_list = [np.array([10, 20, 30, 40, 50]), np.array([5, 15, 25]), np.array([1, 2, 3, 4, 5, 6, 7, 8, 9])]\n",
    "\n",
    "for array in arrays_list:\n",
    "    total_sum = 0\n",
    "    index = 0\n",
    "    while total_sum < 50 and index < len(array):\n",
    "        total_sum += array[index]\n",
    "        index += 1\n",
    "    print(\"\\nProblem 4: Sum and Index for Array\", array)\n",
    "    print(\"Sum:\", total_sum)\n",
    "    print(\"Index:\", index)"
   ]
  },
  {
   "cell_type": "code",
   "execution_count": 8,
   "id": "12108529",
   "metadata": {},
   "outputs": [
    {
     "name": "stdout",
     "output_type": "stream",
     "text": [
      "\n",
      "Problem 5: Locations of Elements Greater Than 6:\n",
      "[(0, 1), (1, 0), (1, 2)]\n"
     ]
    }
   ],
   "source": [
    "# Problem 5: Logical Testing with NumPy\n",
    "data = np.array([[5, 8, 3], [7, 2, 9], [6, 4, 1]])\n",
    "\n",
    "row_indices, col_indices = np.where(data > 6)\n",
    "locations = list(zip(row_indices, col_indices))\n",
    "print(\"\\nProblem 5: Locations of Elements Greater Than 6:\")\n",
    "print(locations)"
   ]
  },
  {
   "cell_type": "code",
   "execution_count": null,
   "id": "64ef18f2",
   "metadata": {},
   "outputs": [],
   "source": []
  }
 ],
 "metadata": {
  "kernelspec": {
   "display_name": "Python 3 (ipykernel)",
   "language": "python",
   "name": "python3"
  },
  "language_info": {
   "codemirror_mode": {
    "name": "ipython",
    "version": 3
   },
   "file_extension": ".py",
   "mimetype": "text/x-python",
   "name": "python",
   "nbconvert_exporter": "python",
   "pygments_lexer": "ipython3",
   "version": "3.11.5"
  }
 },
 "nbformat": 4,
 "nbformat_minor": 5
}
