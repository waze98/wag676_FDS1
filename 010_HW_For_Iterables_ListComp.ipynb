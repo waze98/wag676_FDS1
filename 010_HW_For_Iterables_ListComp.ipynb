{
 "cells": [
  {
   "cell_type": "markdown",
   "id": "3eb84da3",
   "metadata": {},
   "source": [
    "# Python Looping Homework Assignment\n",
    "---\n"
   ]
  },
  {
   "cell_type": "markdown",
   "id": "85f8dd4e",
   "metadata": {},
   "source": [
    "### Part 1: `for` loops with lists and `range()`\n",
    "\n",
    "#### 1. Lists:\n",
    "\n",
    "a) Write a program (i.e. code cell) that takes a list of numbers and prints each number multiplied by 2.\n",
    "\n",
    "Example Input: `[2, 4, 6, 8]`\n",
    "\n",
    "Example Output:\n",
    "```\n",
    "4\n",
    "8\n",
    "12\n",
    "16\n",
    "```"
   ]
  },
  {
   "cell_type": "code",
   "execution_count": 9,
   "id": "3f87a7f4",
   "metadata": {},
   "outputs": [
    {
     "name": "stdout",
     "output_type": "stream",
     "text": [
      "4\n",
      "8\n",
      "12\n",
      "16\n"
     ]
    }
   ],
   "source": [
    "lst = [2,4,6,8]\n",
    "for i in lst:\n",
    "    print(i*2)"
   ]
  },
  {
   "cell_type": "markdown",
   "id": "bb43eeb3",
   "metadata": {},
   "source": [
    "b) Given a list of strings, write a program that prints out the elements of the string in reverse order without reversing the list itself.\n",
    "\n",
    "Example Input: `[\"apple\", \"pear\", \"kiwi\", \"grape\"]`\n",
    "\n",
    "Example Output:\n",
    "```\n",
    "grape\n",
    "kiwi\n",
    "pear\n",
    "apple\n",
    "```"
   ]
  },
  {
   "cell_type": "code",
   "execution_count": 22,
   "id": "fe99909f",
   "metadata": {},
   "outputs": [
    {
     "name": "stdout",
     "output_type": "stream",
     "text": [
      "grape\n",
      "kiwi\n",
      "pear\n",
      "apple\n"
     ]
    }
   ],
   "source": [
    "lst = [\"apple\", \"pear\", \"kiwi\", \"grape\"]\n",
    "\n",
    "for i in lst[::-1]:\n",
    "    print(i)"
   ]
  },
  {
   "cell_type": "markdown",
   "id": "a0c62b3b",
   "metadata": {},
   "source": [
    "#### 2. Using the range() function:\n",
    "\n",
    "a) Write code that uses a `for` loop and the `range()` function to print numbers 0 through 9.\n",
    "\n",
    "b) Use the `range()` function to print numbers from 5 to 15.\n",
    "\n",
    "c) Create a program that prints out the first 10 even numbers using the `range()` function.\n"
   ]
  },
  {
   "cell_type": "code",
   "execution_count": 19,
   "id": "43e485c1",
   "metadata": {},
   "outputs": [
    {
     "name": "stdout",
     "output_type": "stream",
     "text": [
      " a \n",
      "0\n",
      "1\n",
      "2\n",
      "3\n",
      "4\n",
      "5\n",
      "6\n",
      "7\n",
      "8\n",
      "9\n",
      "\n",
      " b \n",
      "5\n",
      "6\n",
      "7\n",
      "8\n",
      "9\n",
      "10\n",
      "11\n",
      "12\n",
      "13\n",
      "14\n",
      "15\n",
      "\n",
      " c \n",
      "0\n",
      "2\n",
      "4\n",
      "6\n",
      "8\n",
      "10\n",
      "12\n",
      "14\n",
      "16\n",
      "18\n"
     ]
    }
   ],
   "source": [
    "# a\n",
    "print(\" a \")\n",
    "for i in range(10):\n",
    "    print(i)\n",
    "# b\n",
    "print(\"\\n b \")\n",
    "for i in range(5,16):\n",
    "    print(i)\n",
    "# c\n",
    "print(\"\\n c \")\n",
    "for i in range(0,10):\n",
    "    print(i*2) # zero is an even number :)"
   ]
  },
  {
   "cell_type": "markdown",
   "id": "b26764b3",
   "metadata": {},
   "source": [
    "---\n",
    "\n",
    "### Part 2: Dictionaries and Loops\n",
    "\n",
    "a) Create a dictionary where the keys are student names and the values are their favorite colors. Write a program that prints out each student's name and their favorite color.\n",
    "\n",
    "Example Output:\n",
    "```\n",
    "Alex's favorite color is Blue.\n",
    "Jordan's favorite color is Green.\n",
    "Taylor's favorite color is Red.\n",
    "```\n"
   ]
  },
  {
   "cell_type": "code",
   "execution_count": 27,
   "id": "c27bd445",
   "metadata": {},
   "outputs": [
    {
     "name": "stdout",
     "output_type": "stream",
     "text": [
      "Alex's favorite color is Blue.\n",
      "Jordan's favorite color is Green.\n",
      "Taylor's favorite color is Red.\n"
     ]
    }
   ],
   "source": [
    "stuCols = {\n",
    "    'Alex': 'Blue',\n",
    "    'Jordan': 'Green',\n",
    "    'Taylor': 'Red'\n",
    "}\n",
    "\n",
    "for key in stuCols:\n",
    "    print(f\"{key}'s favorite color is {stuCols[key]}.\")"
   ]
  },
  {
   "cell_type": "markdown",
   "id": "901baf59",
   "metadata": {},
   "source": [
    "b) Given a dictionary with product names as keys and their quantities as values, write a program that doubles the quantity of each product and prints out the updated quantities.\n",
    "\n",
    "Example Input: `{\"apple\": 5, \"banana\": 3, \"cherries\": 10}`\n",
    "\n",
    "Example Output:\n",
    "```\n",
    "apple now has 10.\n",
    "banana now has 6.\n",
    "cherries now have 20.\n",
    "```"
   ]
  },
  {
   "cell_type": "code",
   "execution_count": 28,
   "id": "8dd1c380",
   "metadata": {},
   "outputs": [
    {
     "name": "stdout",
     "output_type": "stream",
     "text": [
      "apple now has 10.\n",
      "banana now has 6.\n",
      "cherries now has 20.\n"
     ]
    }
   ],
   "source": [
    "inventory = {\"apple\": 5, \"banana\": 3, \"cherries\": 10}\n",
    "\n",
    "for key in inventory:\n",
    "    inventory[key] *= 2\n",
    "    print(f\"{key} now has {inventory[key]}.\")"
   ]
  },
  {
   "cell_type": "markdown",
   "id": "23d4a29a",
   "metadata": {},
   "source": [
    "---\n",
    "\n",
    "### Part 3: Storing Results of a For Loop in a New List and List Comprehensions\n",
    "#### 1. not using list comprehension\n",
    "\n",
    "a) Write a program that takes a list of numbers and creates a new list with each number multiplied by 2.\n",
    "\n",
    "Example Input: `[1, 3, 5, 7]`\n",
    "\n",
    "Example Output (new list): `[2, 6, 10, 14]`\n"
   ]
  },
  {
   "cell_type": "code",
   "execution_count": 29,
   "id": "086571c6",
   "metadata": {},
   "outputs": [
    {
     "name": "stdout",
     "output_type": "stream",
     "text": [
      "[2, 6, 10, 14]\n"
     ]
    }
   ],
   "source": [
    "lst = [1, 3, 5, 7]\n",
    "newlst = []\n",
    "\n",
    "for i in lst:\n",
    "    newlst.append(i*2)\n",
    "    \n",
    "print(newlst)"
   ]
  },
  {
   "cell_type": "markdown",
   "id": "bd39be97",
   "metadata": {},
   "source": [
    "b) Given a list of words, create a new list that contains the first letter of each word.\n",
    "\n",
    "Example Input: `[\"Apple\", \"Banana\", \"Cherry\", \"Date\"]`\n",
    "\n",
    "Example Output (new list): `[\"A\", \"B\", \"C\", \"D\"]`\n"
   ]
  },
  {
   "cell_type": "code",
   "execution_count": 30,
   "id": "0f5ee861",
   "metadata": {},
   "outputs": [
    {
     "name": "stdout",
     "output_type": "stream",
     "text": [
      "['A', 'B', 'C', 'D']\n"
     ]
    }
   ],
   "source": [
    "lst = [\"Apple\", \"Banana\", \"Cherry\", \"Date\"]\n",
    "newlst = []\n",
    "for i in lst:\n",
    "    newlst.append(i[0])\n",
    "    \n",
    "print(newlst)"
   ]
  },
  {
   "cell_type": "markdown",
   "id": "4842c70c",
   "metadata": {},
   "source": [
    "#### 2. using list comprehension\n",
    "c) Use a list comprehension to compute and save the square roots of a list of numbers from 1 to 10.\n",
    "\n",
    "Input list: `[1, 2, 3, 4, 5, 6, 7, 8, 9, 10]`\n",
    "\n",
    "Expected Output: \n",
    "```\n",
    "[1.0,\n",
    " 1.4142135623730951,\n",
    " 1.7320508075688772,\n",
    " 2.0,\n",
    " 2.23606797749979,\n",
    " 2.449489742783178,\n",
    " 2.6457513110645907,\n",
    " 2.8284271247461903,\n",
    " 3.0,\n",
    " 3.1622776601683795]\n",
    "```"
   ]
  },
  {
   "cell_type": "code",
   "execution_count": 32,
   "id": "750e7c38",
   "metadata": {},
   "outputs": [
    {
     "name": "stdout",
     "output_type": "stream",
     "text": [
      "[1.0, 1.4142135623730951, 1.7320508075688772, 2.0, 2.23606797749979, 2.449489742783178, 2.6457513110645907, 2.8284271247461903, 3.0, 3.1622776601683795]\n"
     ]
    }
   ],
   "source": [
    "from math import sqrt\n",
    "\n",
    "lst = [1, 2, 3, 4, 5, 6, 7, 8, 9, 10]\n",
    "\n",
    "newlst = [sqrt(x) for x in lst]\n",
    "print(newlst)"
   ]
  },
  {
   "cell_type": "markdown",
   "id": "ec202f09",
   "metadata": {},
   "source": [
    "d) Given a list of words, use a list comprehension to create a new list containing the last letter of each word.\n",
    "\n",
    "Example Input: `[\"apple\", \"pear\", \"kiwi\", \"grape\"]`\n",
    "\n",
    "Expected Output: `[\"e\", \"r\", \"i\", \"e\"]`"
   ]
  },
  {
   "cell_type": "code",
   "execution_count": 33,
   "id": "d5a00543",
   "metadata": {},
   "outputs": [
    {
     "name": "stdout",
     "output_type": "stream",
     "text": [
      "['e', 'r', 'i', 'e']\n"
     ]
    }
   ],
   "source": [
    "lst = [\"apple\", \"pear\", \"kiwi\", \"grape\"]\n",
    "newlst = [x[-1] for x in lst]\n",
    "print(newlst)"
   ]
  },
  {
   "cell_type": "markdown",
   "id": "07cb28c6",
   "metadata": {},
   "source": [
    "---\n",
    "\n",
    "### Part 4: nested loops\n",
    "\n",
    "a) Write some code to \"flatten\" the following list-of-lists-of-lists:\n",
    "```\n",
    "deep_list = [[[1, 2, 3, 4], [5, 6, 7, 8]],\n",
    "            [[9, 10, 11, 12], [13, 14, 15, 16]],\n",
    "            [[17, 18, 19, 20], [21, 22, 23, 42]]]\n",
    "```\n",
    "(that is, make into a simple list of `ints`)"
   ]
  },
  {
   "cell_type": "code",
   "execution_count": 47,
   "id": "e7137de2",
   "metadata": {},
   "outputs": [
    {
     "name": "stdout",
     "output_type": "stream",
     "text": [
      "[1, 2, 3, 4, 5, 6, 7, 8, 9, 10, 11, 12, 13, 14, 15, 16, 17, 18, 19, 20, 21, 22, 23, 42]\n"
     ]
    }
   ],
   "source": [
    "deep_list = [[[1, 2, 3, 4], [5, 6, 7, 8]],\n",
    "            [[9, 10, 11, 12], [13, 14, 15, 16]],\n",
    "            [[17, 18, 19, 20], [21, 22, 23, 42]]]\n",
    "\n",
    "newlst = []\n",
    "\n",
    "for i in deep_list:\n",
    "    for j in i:\n",
    "        newlst.extend(j)\n",
    "        \n",
    "print(newlst)"
   ]
  },
  {
   "cell_type": "markdown",
   "id": "e681cdf6",
   "metadata": {},
   "source": [
    "\n",
    "b) Write code that, given a list of strings like this:\n",
    "```\n",
    "myStrLst = [\"able\", \"was\", \"I\", \"ere\", \"I\", \"saw\", \"elba\"]\n",
    "```\n",
    "reverses ***both*** the order of the strings in the list ***and*** the order of the letters in each string.  \n",
    "\n",
    "**Warning** This one is tough, and requires you put together a few of the skills we've learned, so don't get frustrated if it takes you a lot of trial and error! That's what coding is often like!"
   ]
  },
  {
   "cell_type": "code",
   "execution_count": 45,
   "id": "a706a812",
   "metadata": {},
   "outputs": [
    {
     "name": "stdout",
     "output_type": "stream",
     "text": [
      "['able', 'was', 'I', 'ere', 'I', 'saw', 'elba']\n"
     ]
    }
   ],
   "source": [
    "myStrLst = [\"able\", \"was\", \"I\", \"ere\", \"I\", \"saw\", \"elba\"]\n",
    "\n",
    "newMyStrLst = [x[::-1] for x in myStrLst[::-1]]\n",
    "print(myStrLst)"
   ]
  }
 ],
 "metadata": {
  "kernelspec": {
   "display_name": "Python 3 (ipykernel)",
   "language": "python",
   "name": "python3"
  },
  "language_info": {
   "codemirror_mode": {
    "name": "ipython",
    "version": 3
   },
   "file_extension": ".py",
   "mimetype": "text/x-python",
   "name": "python",
   "nbconvert_exporter": "python",
   "pygments_lexer": "ipython3",
   "version": "3.11.5"
  }
 },
 "nbformat": 4,
 "nbformat_minor": 5
}
